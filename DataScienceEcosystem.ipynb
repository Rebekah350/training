{
 "cells": [
  {
   "cell_type": "markdown",
   "id": "c99fadf7-1076-48f1-b460-abbda688c7f8",
   "metadata": {},
   "source": [
    "# Data Science Tools and Ecosystem"
   ]
  },
  {
   "cell_type": "markdown",
   "id": "7f66895b-3d16-40bb-b498-bcdba1d46371",
   "metadata": {},
   "source": [
    "In this notebook, Data Science Tools and Ecosystem are summarized."
   ]
  },
  {
   "cell_type": "markdown",
   "id": "ca03a196-cc79-412f-bf22-c345c47bb53f",
   "metadata": {
    "tags": []
   },
   "source": [
    "**Objectives:**\n",
    "- Create a Jupyter Notebook with markdown and code cells.\n",
    "- List examples of languages, libraries and tools used in Data Science\n",
    "- Share your Jupyter Notebook publicly on GitHub\n",
    "- Evaluate notebooks submitted by your peers using the provided rubric\n",
    "- Demonstrate proficiency in Data Science toolkit knowledge"
   ]
  },
  {
   "cell_type": "markdown",
   "id": "859dd001-8972-4bd7-acc9-4fe3b69f8ab2",
   "metadata": {},
   "source": [
    "Some of the popular languages that Data Scientists use are:\n",
    "1. R\n",
    "2. SQL\n",
    "3. Python\n",
    "4. Java\n",
    "5. Julia\n",
    "6. SAS\n",
    "7. C/C++\n",
    "8. Matlab\n",
    "9. Scala\n",
    "10. Javascript"
   ]
  },
  {
   "cell_type": "markdown",
   "id": "d0c03f20-a407-41ce-b5e5-2fd185ed051b",
   "metadata": {},
   "source": [
    "Some of the commonly used libraries used by Data Scientists include:\n",
    "1. Matplotlib\n",
    "2. Ggplot\n",
    "3. Plotly\n",
    "4. SciPy\n",
    "5. Numpy\n",
    "6. Pandas\n",
    "7. Keras\n",
    "8. Scikit-learn\n",
    "9. Tensorflow\n",
    "10. Seaborn"
   ]
  },
  {
   "cell_type": "markdown",
   "id": "863ba1f0-a259-42fd-bc1a-d238a7a1890d",
   "metadata": {},
   "source": [
    "| Data Science Tools |\n",
    "| ------ |\n",
    "| R Studio |\n",
    "| Jupyter Notebook |\n",
    "| Google Colaboratory |"
   ]
  },
  {
   "cell_type": "markdown",
   "id": "d67138cc-e22f-4ed8-ac3b-8dbd8db83eec",
   "metadata": {},
   "source": [
    "### Below are a few examples of evaluating arithmetic expressions in Python"
   ]
  },
  {
   "cell_type": "code",
   "execution_count": 1,
   "id": "def0ab17-363b-4d44-8198-a85b5f1f3109",
   "metadata": {
    "tags": []
   },
   "outputs": [
    {
     "data": {
      "text/plain": [
       "17"
      ]
     },
     "execution_count": 1,
     "metadata": {},
     "output_type": "execute_result"
    }
   ],
   "source": [
    "# This a simple arithmetic expression to mutiply then add integers\n",
    "(3*4)+5"
   ]
  },
  {
   "cell_type": "code",
   "execution_count": 34,
   "id": "92fd2512-f257-42fc-ac61-43fb2940940c",
   "metadata": {
    "tags": []
   },
   "outputs": [
    {
     "name": "stdout",
     "output_type": "stream",
     "text": [
      "3.3333333333333335\n"
     ]
    }
   ],
   "source": [
    "# This will convert 200 minutes to hours by dividing by 60\n",
    "x = 200\n",
    "hours = (x/60)\n",
    "print(hours)"
   ]
  },
  {
   "cell_type": "markdown",
   "id": "dd5785d9-9218-4edd-bffe-c2e7ad789b0b",
   "metadata": {
    "tags": []
   },
   "source": [
    "## Author\n",
    "Rebekah McComas"
   ]
  }
 ],
 "metadata": {
  "kernelspec": {
   "display_name": "Python",
   "language": "python",
   "name": "conda-env-python-py"
  },
  "language_info": {
   "codemirror_mode": {
    "name": "ipython",
    "version": 3
   },
   "file_extension": ".py",
   "mimetype": "text/x-python",
   "name": "python",
   "nbconvert_exporter": "python",
   "pygments_lexer": "ipython3",
   "version": "3.7.12"
  }
 },
 "nbformat": 4,
 "nbformat_minor": 5
}
